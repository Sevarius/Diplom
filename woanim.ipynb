{
 "cells": [
  {
   "cell_type": "code",
   "execution_count": 6,
   "metadata": {},
   "outputs": [
    {
     "name": "stdout",
     "output_type": "stream",
     "text": [
      "0.6321205588285577\n",
      "0.13064176460119403\n",
      "5.0207\n"
     ]
    }
   ],
   "source": [
    "import numpy as np\n",
    "from matplotlib import pyplot as plt\n",
    "from matplotlib.animation import FuncAnimation\n",
    "import random\n",
    "import pylab\n",
    "import matplotlib.patches\n",
    "import matplotlib.lines\n",
    "import matplotlib.path\n",
    "import math\n",
    "\n",
    "xn = 1\n",
    "dt1 = 0.1\n",
    "dt2 = 0.1\n",
    "add = 1-1/(math.exp(dt1*10))\n",
    "sub = 1-1/(math.exp(dt2*1.4))\n",
    "print(add)\n",
    "print(sub)\n",
    "\n",
    "length=0\n",
    "\n",
    "for ii in range(200):\n",
    "    xn = 0\n",
    "    for i in range(1500):\n",
    "        \n",
    "        randadd = random.random()\n",
    "        if randadd < add:\n",
    "            xn += 1\n",
    "        randsub = random.random()\n",
    "        if randsub < sub:\n",
    "            xn -= 1\n",
    "            \n",
    "    length = length+xn\n",
    "\n",
    "average = length/200/150\n",
    "print (average)\n"
   ]
  },
  {
   "cell_type": "code",
   "execution_count": null,
   "metadata": {},
   "outputs": [],
   "source": []
  }
 ],
 "metadata": {
  "kernelspec": {
   "display_name": "Python 3",
   "language": "python",
   "name": "python3"
  },
  "language_info": {
   "codemirror_mode": {
    "name": "ipython",
    "version": 3
   },
   "file_extension": ".py",
   "mimetype": "text/x-python",
   "name": "python",
   "nbconvert_exporter": "python",
   "pygments_lexer": "ipython3",
   "version": "3.8.5"
  }
 },
 "nbformat": 4,
 "nbformat_minor": 4
}
