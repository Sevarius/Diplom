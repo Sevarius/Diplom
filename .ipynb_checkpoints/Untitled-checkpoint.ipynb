{
 "cells": [
  {
   "cell_type": "code",
   "execution_count": 9,
   "metadata": {},
   "outputs": [],
   "source": [
    "import matplotlib.pyplot as plt\n",
    "plt.style.use('dark_background')\n",
    "\n",
    "import math"
   ]
  },
  {
   "cell_type": "code",
   "execution_count": 13,
   "metadata": {},
   "outputs": [],
   "source": [
    "class Dot:\n",
    "    \n",
    "    dotLength = 1\n",
    "    \n",
    "    def __init__(self, x, y, parentBranch):\n",
    "        self.isBusy = False\n",
    "        self.coordinates = (x, y)\n",
    "        self.parentBranch = parentBranch\n",
    "        self.childBranch = None\n",
    "        \n",
    "    def addChildBranch(self, childBranch):\n",
    "        self.childBranch = childBranch"
   ]
  },
  {
   "cell_type": "code",
   "execution_count": 35,
   "metadata": {},
   "outputs": [],
   "source": [
    "class Line:\n",
    "    \n",
    "    angleDegree = 70\n",
    "    \n",
    "    def __init__(self, xStart, yStart, xEnd, yEnd):\n",
    "        self.startCoordinates = (xStart, yStart)\n",
    "        self.endCoordinates = [xEnd, yEnd]\n",
    "        self.dots = [Dot(xStart, yStart, self)]\n",
    "        self.childBranches = []\n",
    "    \n",
    "    def addDot(self):\n",
    "        self.dots.append(Dot(self.endCoordinates[0], self.endCoordinates[1], self))\n",
    "        self.endCoordinates[0] += self.dX() * Dot.dotLength / self.length()\n",
    "        self.endCoordinates[1] += self.dY() * Dot.dotLength / self.length()\n",
    "        \n",
    "    def addLine(self, dotIndex):\n",
    "        sinAlpha = math.sin(math.radians(Line.angleDegree))\n",
    "        cosAlpha = math.cos(math.radians(Line.angleDegree))\n",
    "        \n",
    "    def dX(self):\n",
    "        return self.endCoordinates[0] - self.startCoordinates[0]\n",
    "    \n",
    "    def dY(self):\n",
    "        return self.endCoordinates[1] - self.startCoordinates[1];\n",
    "    \n",
    "    def length(self):\n",
    "        return math.sqrt(pow(self.dX(), 2) + pow(self.dY(), 2))"
   ]
  },
  {
   "cell_type": "code",
   "execution_count": 36,
   "metadata": {},
   "outputs": [],
   "source": [
    "class Tree:\n",
    "    \n",
    "    def __init__(self):\n",
    "        self.branches = []\n",
    "        \n",
    "    def addBranch(self, branch):\n",
    "        self.branches.append(branch)\n",
    "    \n",
    "    def makeTree(root):\n",
    "        print(\"kek\")"
   ]
  },
  {
   "cell_type": "code",
   "execution_count": 28,
   "metadata": {},
   "outputs": [
    {
     "data": {
      "text/plain": [
       "<matplotlib.lines._AxLine at 0x1baffe78f10>"
      ]
     },
     "execution_count": 28,
     "metadata": {},
     "output_type": "execute_result"
    },
    {
     "data": {
      "image/png": "[encoded data removed]",
      "text/plain": [
       "<Figure size 432x288 with 1 Axes>"
      ]
     },
     "metadata": {},
     "output_type": "display_data"
    }
   ],
   "source": [
    "a = Line(1,1,-3,-3)\n",
    "plt.axline(a.startCoordinates, a.endCoordinates)"
   ]
  },
  {
   "cell_type": "code",
   "execution_count": 29,
   "metadata": {},
   "outputs": [
    {
     "data": {
      "text/plain": [
       "<matplotlib.lines._AxLine at 0x1baffd25bb0>"
      ]
     },
     "execution_count": 29,
     "metadata": {},
     "output_type": "execute_result"
    },
    {
     "data": {
      "image/png": "[encoded data removed]",
      "text/plain": [
       "<Figure size 432x288 with 1 Axes>"
      ]
     },
     "metadata": {},
     "output_type": "display_data"
    }
   ],
   "source": [
    "a.addDot()\n",
    "plt.axline(a.startCoordinates, a.endCoordinates)"
   ]
  },
  {
   "cell_type": "code",
   "execution_count": 33,
   "metadata": {},
   "outputs": [
    {
     "data": {
      "text/plain": [
       "0.9396926207859083"
      ]
     },
     "execution_count": 33,
     "metadata": {},
     "output_type": "execute_result"
    }
   ],
   "source": [
    "math.sin(math.radians(70))"
   ]
  },
  {
   "cell_type": "code",
   "execution_count": null,
   "metadata": {},
   "outputs": [],
   "source": []
  }
 ],
 "metadata": {
  "kernelspec": {
   "display_name": "Python 3",
   "language": "python",
   "name": "python3"
  },
  "language_info": {
   "codemirror_mode": {
    "name": "ipython",
    "version": 3
   },
   "file_extension": ".py",
   "mimetype": "text/x-python",
   "name": "python",
   "nbconvert_exporter": "python",
   "pygments_lexer": "ipython3",
   "version": "3.8.5"
  }
 },
 "nbformat": 4,
 "nbformat_minor": 4
}
