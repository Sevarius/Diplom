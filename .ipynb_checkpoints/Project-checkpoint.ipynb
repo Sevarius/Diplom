{
 "cells": [
  {
   "cell_type": "markdown",
   "metadata": {},
   "source": [
    "# Перезапускает едро\n",
    "import IPython\n",
    "IPython.Application.instance().kernel.do_shutdown(True)"
   ]
  },
  {
   "cell_type": "code",
   "execution_count": 37,
   "metadata": {},
   "outputs": [],
   "source": [
    "import matplotlib.pyplot as plt\n",
    "plt.style.use('dark_background')\n",
    "import random as r\n",
    "from matplotlib.patches import Ellipse, Arc\n",
    "\n",
    "from tqdm import tqdm\n",
    "\n",
    "import math\n",
    "from time import gmtime, strftime, localtime"
   ]
  },
  {
   "cell_type": "code",
   "execution_count": 2,
   "metadata": {},
   "outputs": [],
   "source": [
    "class MathDot:\n",
    "    \n",
    "    def __init__(self, x, y):\n",
    "        self.x = x\n",
    "        self.y = y\n",
    "        \n",
    "    def __str__(self):\n",
    "        return \"Dot - (\" + str(self.x) + \", \" + str(self.y) + \")\\n\"\n",
    "        \n",
    "    def dX(dotOne, dotTwo):\n",
    "        return dotTwo.x - dotOne.x\n",
    "    \n",
    "    def dY(dotOne, dotTwo):\n",
    "        return dotTwo.y - dotOne.y\n",
    "    \n",
    "    def length(dotOne, dotTwo):\n",
    "        return math.sqrt(pow(MathDot.dY(dotOne, dotTwo), 2) + pow(MathDot.dX(dotOne, dotTwo), 2))\n",
    "    \n",
    "    def makeVector(dotOne, dotTwo):\n",
    "        return MathDot(dotTwo.x - dotOne.x, dotTwo.y - dotOne.y)\n",
    "    \n",
    "    def vectorProduct(dotOne, dotTwo):\n",
    "        return dotOne.x * dotTwo.y - dotOne.y * dotTwo.x\n",
    "    \n",
    "class Dot(MathDot):\n",
    "    \n",
    "    def __init__(self, x, y, parentBranch):\n",
    "        self.isBusy = False\n",
    "        super().__init__(x, y)\n",
    "        self.parentBranch = parentBranch\n",
    "        self.childBranch = None\n",
    "        \n",
    "    def addChildBranch(self, childBranch):\n",
    "        self.childBranch = childBranch"
   ]
  },
  {
   "cell_type": "code",
   "execution_count": 3,
   "metadata": {},
   "outputs": [],
   "source": [
    "class Direction:\n",
    "    \n",
    "    def __init__(self, degree):\n",
    "        self.degree = degree\n",
    "        self.sin = round(math.sin(math.radians(degree)),3)\n",
    "        self.cos = round(math.cos(math.radians(degree)),3)\n",
    "        \n",
    "    def __add__(self, other):\n",
    "        if isinstance(other, Direction):\n",
    "            return Direction(self.degree + other.degree)\n",
    "        else:\n",
    "            return Direction(self.degree + other)\n",
    "        \n",
    "    def __sub__(self, other):\n",
    "        if isinstance(other, Direction):\n",
    "            return Direction(self.degree - other.degree)\n",
    "        else:\n",
    "            return Direction(self.degree - other)"
   ]
  },
  {
   "cell_type": "code",
   "execution_count": 4,
   "metadata": {},
   "outputs": [],
   "source": [
    "class Branch:\n",
    "    \n",
    "    def __init__(self, xStart, yStart, direction, fatherBranch = None):\n",
    "        self.startCoordinates = (xStart, yStart)\n",
    "        self.endCoordinates = [xStart, yStart]\n",
    "        self.direction = direction\n",
    "        self.dots = [Dot(xStart, yStart, self)]\n",
    "        self.freeDots = []\n",
    "        self.childBranches = []\n",
    "        self.fatherBranch = fatherBranch\n",
    "        self.canGrow = True\n",
    "        self.outsideGrowArea = False\n",
    "        self.intersectedBranches = [[]]\n",
    "        \n",
    "    def __str__(self):\n",
    "        string = \"Branch:\\nFirst dot - (\" + str(self.dots[0].x) + \", \" + str(self.dots[0].y) + \")\\n\" + \\\n",
    "        \"Last dot - (\" + str(self.dots[-1].x) + \", \" + str(self.dots[-1].y) + \")\\nDirection - \" + str(self.direction.degree) + \"\\n\"\n",
    "        return string\n",
    "        \n",
    "    def addDot(self):\n",
    "        self.endCoordinates[0] += self.direction.cos * CONSTS.MIN_INCREASE_LENGTH\n",
    "        self.endCoordinates[1] += self.direction.sin * CONSTS.MIN_INCREASE_LENGTH\n",
    "        newDot = Dot(self.endCoordinates[0], self.endCoordinates[1], self)\n",
    "        if self.dots[-1].isBusy == False:\n",
    "            self.freeDots.append(self.dots[-1])\n",
    "        self.dots.append(newDot)\n",
    "        \n",
    "        self.intersectedBranches.append([])\n",
    "        \n",
    "        return newDot\n",
    "    \n",
    "    def removeDot(self):\n",
    "        for branch in self.intersectedBranches[-1]:\n",
    "            branch.canGrow = not branch.outsideGrowArea\n",
    "        self.intersectedBranches.pop()\n",
    "        self.dots.pop()\n",
    "        if len(self.freeDots) > 0 and self.dots[-1] == self.freeDots[-1]:\n",
    "            self.freeDots.pop()\n",
    "        self.endCoordinates[0] = self.dots[-1].x\n",
    "        self.endCoordinates[1] = self.dots[-1].y\n",
    "        self.canGrow = not self.outsideGrowArea\n",
    "        \n",
    "    def addChildBranch(self, dot, coef):\n",
    "        coef = 1 if coef >= 0 else -1\n",
    "        newDirection = Direction(self.direction.degree + coef * CONSTS.NEW_BRANCH_ANGLE_DEGREE)\n",
    "        thisDot = dot\n",
    "        nextDot = self.dots[self.dots.index(dot) + 1]\n",
    "        thisDot.isBusy = True\n",
    "        nextDot.isBusy = True\n",
    "        if thisDot in self.freeDots:\n",
    "            self.freeDots.remove(thisDot)\n",
    "        if nextDot in self.freeDots:\n",
    "            self.freeDots.remove(nextDot)\n",
    "        newBranchXStart = (thisDot.x + nextDot.x) / 2\n",
    "        newBranchYStart = (thisDot.y + nextDot.y) / 2\n",
    "        newBranch = Branch(newBranchXStart, newBranchYStart, newDirection, self)\n",
    "        thisDot.childBranch = newBranch\n",
    "        nextDot.childBranch = newBranch\n",
    "        self.childBranches.append(newBranch)\n",
    "        return newBranch\n",
    "        \n",
    "    def getFreeDots(self):\n",
    "        return self.freeDots\n",
    "    \n",
    "    def addIntersection(self, intersectionDot, branch):\n",
    "        fromStartToIntersectionLength = MathDot.length(self.dots[0], intersectionDot)\n",
    "        intersectedDotIndex = len(self.dots) - 1 - (self.length() - fromStartToIntersectionLength) // CONSTS.MIN_INCREASE_LENGTH\n",
    "        intersectedDotIndex = int(intersectedDotIndex)\n",
    "        if intersectedDotIndex == len(self.dots):\n",
    "            intersectedDotIndex -= 1\n",
    "        self.intersectedBranches[intersectedDotIndex].append(branch)        \n",
    "        \n",
    "    def dX(self):\n",
    "        return self.endCoordinates[0] - self.startCoordinates[0]\n",
    "    \n",
    "    def dY(self):\n",
    "        return self.endCoordinates[1] - self.startCoordinates[1];\n",
    "    \n",
    "    def length(self):\n",
    "        return math.sqrt(pow(self.dX(), 2) + pow(self.dY(), 2))\n",
    "    \n",
    "    def getXCoordinates(self):\n",
    "        return [self.startCoordinates[0], self.endCoordinates[0]]\n",
    "\n",
    "    def getYCoordinates(self):\n",
    "        return [self.startCoordinates[1], self.endCoordinates[1]]"
   ]
  },
  {
   "cell_type": "code",
   "execution_count": 5,
   "metadata": {},
   "outputs": [],
   "source": [
    "class Tree:\n",
    "    \n",
    "    def __init__(self, root):\n",
    "        self.root = root\n",
    "        self.allBranches = [root]\n",
    "    \n",
    "    def getAllBranches(self):\n",
    "        return self.allBranches\n",
    "        \n",
    "    def _recGetAllBranches(self, branch, res):\n",
    "        res.append(branch)\n",
    "        for b in branch.childBranches:\n",
    "            self._recGetAllBranches(b, res)\n",
    "    \n",
    "    def getFreeDots(self):\n",
    "        res = []\n",
    "        for branch in self.getAllBranches():\n",
    "            for dot in branch.getFreeDots():\n",
    "                res.append(dot)\n",
    "        return res\n",
    "    \n",
    "    def addChildBranch(self, dot, coef):\n",
    "        self.allBranches.append(dot.parentBranch.addChildBranch(dot, coef))    "
   ]
  },
  {
   "cell_type": "code",
   "execution_count": 164,
   "metadata": {},
   "outputs": [],
   "source": [
    "class Cell:\n",
    "\n",
    "    def __init__(self, initCoords : list, initRad : int):\n",
    "        self.centre = Dot(initCoords[0], initCoords[1], None)\n",
    "        self.startRadius = initRad\n",
    "        self.radius = initRad\n",
    "        self.leanedBranches = []\n",
    "        \n",
    "    def grow(self):\n",
    "        for lBranch in self.leanedBranches:\n",
    "            lBranch.canGrow = True\n",
    "        self.leanedBranches.clear()\n",
    "        self.radius += CONSTS.CELL_RADIUS_PLUS\n",
    "    \n",
    "    def addLeanedBranch(self, branch):\n",
    "        self.leanedBranches.append(branch)\n",
    "        branch.canGrow = False\n",
    "        branch.outsideGrowArea = False"
   ]
  },
  {
   "cell_type": "code",
   "execution_count": 173,
   "metadata": {},
   "outputs": [],
   "source": [
    "class Plot:\n",
    "    \n",
    "    def __init__(self, x_limits : list, y_limits : list):\n",
    "        self.x_limits = x_limits\n",
    "        self.y_limits = y_limits\n",
    "        \n",
    "    def drawPlot(self, tree : Tree, cell : Cell, iter_count : int, name : str = None):\n",
    "        self.fig, self.ax = plt.subplots()\n",
    "        self.ax.set_xlim(self.x_limits)\n",
    "        self.ax.set_ylim(self.y_limits)\n",
    "        self.__drawTree(tree)\n",
    "        self.__drawCell(cell)\n",
    "        self.__drawText(cell, tree, iter_count)\n",
    "        self.__savePlot(name)\n",
    "    \n",
    "    def __savePlot(self, name : str):\n",
    "        self.fig.set_size_inches(10,20)\n",
    "        plt.savefig(\"img/scr_\" + name + \".png\")\n",
    "        plt.close('all')\n",
    "    \n",
    "    def __drawTree(self, tree : Tree):\n",
    "        for branch in tree.getAllBranches():\n",
    "            self.ax.plot(branch.getXCoordinates(), branch.getYCoordinates(), c = 'r')\n",
    "            \n",
    "    def __drawCell(self, cell : Cell):\n",
    "        cellWall = Arc(xy = [cell.centre.x, cell.centre.y], width = cell.radius * 2, height = cell.radius * 2,theta1 = -90, theta2 = 90, color = \"g\")\n",
    "        cellAttachArea = Arc(xy = [cell.centre.x, cell.centre.y], width = (cell.radius - CONSTS.DISTANCE_TO_ATTACH) * 2, height = (cell.radius - CONSTS.DISTANCE_TO_ATTACH) * 2, theta1 = -90, theta2 = 90, color = \"g\", ls = '--')\n",
    "        cellGrowArea = Arc(xy = [cell.centre.x, cell.centre.y], width = (cell.radius - CONSTS.DISTANCE_TO_GROW) * 2, height = (cell.radius - CONSTS.DISTANCE_TO_GROW) * 2, theta1 = -90, theta2 = 90, color = \"g\", ls = '-')\n",
    "        \n",
    "        self.ax.add_patch(cellWall) \n",
    "        self.ax.add_patch(cellAttachArea) \n",
    "        self.ax.add_patch(cellGrowArea)\n",
    "        \n",
    "        leanedDots = [x.dots[-1] for x in cell.leanedBranches]\n",
    "        circles = [plt.Circle((dot.x, dot.y), 0.3, color = 'b') for dot in leanedDots]\n",
    "        for circle in circles:\n",
    "            self.ax.add_patch(circle)\n",
    "    \n",
    "    def __drawText(self, cell : Cell, tree : Tree, iter_count : int):\n",
    "        text = \"\"\n",
    "        text += \"\\nn: \" + str(CONSTS.N_BRANCHES_TO_PUSH_SELL)\n",
    "        text += \"\\nKb: \" + str(CONSTS.Kb)\n",
    "        text += \"\\nH: \" + str(CONSTS.DISTANCE_TO_GROW)\n",
    "        text += \"\\nD: \" + str(CONSTS.DISTANCE_TO_ATTACH)\n",
    "        text += \"\\navgV: \" + str(round((cell.radius - cell.startRadius) * 5.5 / 10 / (iter_count * CONSTS.DT), 2)) + \"e-8 м/с\"\n",
    "        self.ax.annotate(text, xy=(self.x_limits[1] - 40, self.y_limits[1] - 40), color = 'r')"
   ]
  },
  {
   "cell_type": "code",
   "execution_count": 147,
   "metadata": {},
   "outputs": [],
   "source": [
    "class Checker:\n",
    "    \n",
    "    def __init__(self, tree, cell):\n",
    "        self.tree = tree\n",
    "        self.cell = cell\n",
    "        \n",
    "    def allBranchesThatCanGrow(self):\n",
    "        return [branch for branch in self.tree.getAllBranches() if branch.canGrow and self.checkBranchCanGrow(branch)]\n",
    "    \n",
    "    def allBranchesThatCanBreak(self):\n",
    "        return [branch for branch in self.tree.getAllBranches() if self.checkBranchCanBreak(branch)]\n",
    "          \n",
    "    def allBranchesInsideGrowArea(self):\n",
    "        return [branch for branch in self.tree.getAllBranches() if branch.outsideGrowArea == False]\n",
    "    \n",
    "    def checkBranchOutsideGrowArea(self, branch : Branch):\n",
    "        length = MathDot.length(self.cell.centre, branch.dots[-1])\n",
    "        return abs(length - self.cell.radius) >= 1e-10 \\\n",
    "            and abs(length - (self.cell.radius - CONSTS.DISTANCE_TO_GROW if self.cell.radius > CONSTS.DISTANCE_TO_GROW else 0)) >= 1e-10 \\\n",
    "            and (length > self.cell.radius \\\n",
    "            or length < self.cell.radius - CONSTS.DISTANCE_TO_GROW)\n",
    "    \n",
    "    def checkBranchCanGrow(self, branch):\n",
    "        for anotherBranch in self.allBranchesInsideGrowArea():\n",
    "            if anotherBranch != branch and anotherBranch != branch.fatherBranch and anotherBranch not in branch.childBranches:\n",
    "                res = self.checkGrowBranchCrossAnother(branch, anotherBranch)\n",
    "                if res != False:\n",
    "                    branch.canGrow = False\n",
    "                    if res != True:\n",
    "                        anotherBranch.addIntersection(res, branch)\n",
    "                    return False\n",
    "        return True\n",
    "    \n",
    "    def checkBranchCanBreak(self, branch):\n",
    "        return branch.dots[-1].isBusy == False and len(branch.dots) > 2\n",
    "    \n",
    "    def checkGrowBranchCrossAnother(self, branchToGrow, branchTwo):\n",
    "        \n",
    "        a = branchToGrow.dots[0]\n",
    "        lastDot = branchToGrow.dots[-1]\n",
    "        b = MathDot(lastDot.x + branchToGrow.direction.cos * CONSTS.MIN_INCREASE_LENGTH, lastDot.y + branchToGrow.direction.sin * CONSTS.MIN_INCREASE_LENGTH)\n",
    "        c = branchTwo.dots[0]\n",
    "        d = branchTwo.dots[-1]\n",
    "        \n",
    "        return self.__intersection(a,b,c,d)\n",
    "        \n",
    "    def __intersection(self, a,b,c,d):\n",
    "        x1 = a.x\n",
    "        y1 = a.y\n",
    "        x2 = b.x\n",
    "        y2 = b.y\n",
    "        x3 = c.x\n",
    "        y3 = c.y\n",
    "        x4 = d.x\n",
    "        y4 = d.y\n",
    "\n",
    "        A1 = y1 - y2\n",
    "        A2 = y3 - y4\n",
    "        B1 = x2 - x1\n",
    "        B2 = x4 - x3\n",
    "        C1 = x1 * y2 - x2 * y1\n",
    "        C2 = x3 * y4 - x4 * y3\n",
    "        \n",
    "        if abs(c.x - d.x) <= 1e-10:\n",
    "            return self.__dotIsOnSegment(c, a, b)\n",
    "\n",
    "        if abs(A1) <= 1e-10 and abs(A2) <= 1e-10:\n",
    "            if C1 / B1 == C2 / B2:\n",
    "                m = max(x1, x2, x3, x4)\n",
    "                if m == x1 or m == x2:\n",
    "                    m = min(x1, x2)\n",
    "                    return self.__dotIsOnSegment(a if m == x1 else b, c, d)\n",
    "                else:\n",
    "                    m = min(x3, x4)\n",
    "                    return self.__dotIsOnSegment(c if m == x3 else d, a, b)\n",
    "            else:\n",
    "                return False\n",
    "\n",
    "        if abs(A1) <= 1e-10:\n",
    "            y = -C1 / B1\n",
    "            x = -C2 / A2 + -B2 / A2 * y\n",
    "            if self.__dotIsInTwoSegments(MathDot(x,y), a, b, c, d):\n",
    "                return MathDot(x,y)\n",
    "            else:\n",
    "                return False\n",
    "\n",
    "        if abs(A2) <= 1e-10:\n",
    "            y = -C2 / B2\n",
    "            x = -C1 / A1 + -B1 / A1 * y\n",
    "            if self.__dotIsInTwoSegments(MathDot(x,y), a, b, c, d):\n",
    "                return MathDot(x,y)\n",
    "            else:\n",
    "                return False\n",
    "\n",
    "        value = B1 / A1 - B2 / A2\n",
    "        if abs(value) <= 1e-10:\n",
    "            return False\n",
    "\n",
    "        y = (C2 / A2 - C1 / A1) / value\n",
    "        x = -C1 / A1 + -B1 / A1 * y\n",
    "        if self.__dotIsInTwoSegments(MathDot(x,y), a, b, c, d):\n",
    "            return MathDot(x,y)\n",
    "        else:\n",
    "            return False\n",
    "    \n",
    "    def __dotIsInTwoSegments(self, dot, a, b, c, d):\n",
    "        return self.__dotIsOnSegment(dot, a, b) and self.__dotIsOnSegment(dot, c, d)\n",
    "\n",
    "    def __dotIsOnSegment(self, dot, a, b):\n",
    "        #print(dot, a, b)\n",
    "        x = dot.x\n",
    "        y = dot.y\n",
    "        x1 = a.x\n",
    "        y1 = a.y\n",
    "        x2 = b.x\n",
    "        y2 = b.y\n",
    "    \n",
    "        return abs((x - x1) * (y2 - y1) - (y - y1) * (x2 - x1)) <= 1e-10 and (x1 <= x <= x2 or x2 <= x <= x1)\n",
    "        \n",
    "    def checkBranchCanHaveChildBranches(self, branch, coef):\n",
    "        coef = 1 if coef >= 0 else -1\n",
    "        newAngle = branch.direction.degree + coef * CONSTS.NEW_BRANCH_ANGLE_DEGREE\n",
    "        if newAngle > CONSTS.MAX_BRANCH_ANGLE or newAngle < CONSTS.MIN_BRANCH_ANGLE:\n",
    "            return False\n",
    "        return True\n",
    "    \n",
    "    \n",
    "    def checkDotCanJoin(self, dot : Dot):\n",
    "        if MathDot.length(self.cell.centre, dot) < self.cell.radius and MathDot.length(self.cell.centre, dot) > self.cell.radius - CONSTS.DISTANCE_TO_ATTACH:\n",
    "            return True\n",
    "        return False\n",
    "    \n",
    "    def checkDotOutsideCell(self, dot : Dot):\n",
    "        if abs(MathDot.length(self.cell.centre, dot) - self.cell.radius) >= 1e-10 and MathDot.length(self.cell.centre, dot) > self.cell.radius:\n",
    "            return True\n",
    "        return False\n",
    "    \n",
    "    def checkCellNeedToGrow(self):\n",
    "        return len(self.cell.leanedBranches) >= CONSTS.N_BRANCHES_TO_PUSH_SELL"
   ]
  },
  {
   "cell_type": "code",
   "execution_count": 94,
   "metadata": {},
   "outputs": [
    {
     "name": "stdout",
     "output_type": "stream",
     "text": [
      "True\n"
     ]
    }
   ],
   "source": [
    "a = 1 < 2 or \\\n",
    "5 > 6\n",
    "print(a)"
   ]
  },
  {
   "cell_type": "code",
   "execution_count": 9,
   "metadata": {},
   "outputs": [],
   "source": [
    "class Error:\n",
    "    value = 0"
   ]
  },
  {
   "cell_type": "code",
   "execution_count": 165,
   "metadata": {},
   "outputs": [],
   "source": [
    "class Randomizer:\n",
    "\n",
    "    def __init__(self, tree : Tree, cell : Cell):\n",
    "        self.tree = tree\n",
    "        self.cell = cell\n",
    "        self.checker = Checker(tree, cell)\n",
    "    \n",
    "    def oneTick(self):\n",
    "        self.grow()\n",
    "        self.breakBranches()\n",
    "        self.addChildBranches()\n",
    "        if self.checker.checkCellNeedToGrow():\n",
    "            self.cellGrow()\n",
    "       # if len(myRandomizer.checker.allBranchesInsideGrowArea()) != len([x for x in myTree.getAllBranches() if myRandomizer.checker.checkBranchOutsideGrowArea(x) == False]):\n",
    "           # raise Exception(\"seva\")\n",
    "                \n",
    "    def grow(self):\n",
    "        for branch in self.checker.allBranchesThatCanGrow():\n",
    "            if r.random() < CONSTS.ADD_DOT_PROB:\n",
    "                newDot = branch.addDot()\n",
    "                if self.checker.checkDotOutsideCell(newDot):\n",
    "                    self.cell.addLeanedBranch(newDot.parentBranch)\n",
    "    \n",
    "                \n",
    "    def addChildBranches(self):\n",
    "        allDots = self.tree.getFreeDots()\n",
    "        for dot in allDots:\n",
    "            if dot.isBusy == False and self.checker.checkDotCanJoin(dot) and r.random() < CONSTS.CREATE_BRANCH_PROB:\n",
    "                if self.checker.checkBranchCanHaveChildBranches(dot.parentBranch, 1) == False:\n",
    "                    coef = -1\n",
    "                elif self.checker.checkBranchCanHaveChildBranches(dot.parentBranch, -1) == False:\n",
    "                    coef = 1\n",
    "                else:\n",
    "                    coef = 1 if r.random() >= 0.5 else -1\n",
    "                self.tree.addChildBranch(dot, coef)\n",
    "                \n",
    "    def breakBranches(self):\n",
    "        for branch in self.checker.allBranchesThatCanBreak():\n",
    "            if r.random() < CONSTS.REMOVE_DOT_PROB:\n",
    "                branch.removeDot()\n",
    "                if branch in self.cell.leanedBranches:\n",
    "                    self.cell.leanedBranches.remove(branch)\n",
    "                    \n",
    "    def cellGrow(self):\n",
    "        self.cell.grow()\n",
    "        for branch in self.checker.allBranchesInsideGrowArea():\n",
    "            if self.checker.checkBranchOutsideGrowArea(branch) == True:\n",
    "                branch.outsideGrowArea = not self.checker.checkDotOutsideCell(branch.dots[-1])\n",
    "                if branch.outsideGrowArea:\n",
    "                    branch.canGrow = False"
   ]
  },
  {
   "cell_type": "code",
   "execution_count": 188,
   "metadata": {},
   "outputs": [],
   "source": [
    "class CONSTS: \n",
    "    DT = 0.1\n",
    "    K1G = 10\n",
    "    K2 = 1.4\n",
    "    K3ARP = 10\n",
    "    X_DENSITY = 9.7e-6\n",
    "    Kb = 20000\n",
    "    ADD_DOT_PROB = 1-1/(math.exp(DT*K1G))\n",
    "    REMOVE_DOT_PROB = 1-1/(math.exp(DT*K2))\n",
    "    CREATE_BRANCH_PROB = 1-1/(math.exp(DT*Kb*X_DENSITY))\n",
    "    #ADD_DOT_PROB = 0.5\n",
    "    #REMOVE_DOT_PROB = 0.2\n",
    "    #CREATE_BRANCH_PROB = 0.9\n",
    "    N_BRANCHES_TO_PUSH_SELL = 4\n",
    "    NEW_BRANCH_ANGLE_DEGREE = 70\n",
    "    MIN_INCREASE_LENGTH = 1\n",
    "    MAX_BRANCH_ANGLE = 90\n",
    "    MIN_BRANCH_ANGLE = -90\n",
    "    DISTANCE_TO_ATTACH = 5\n",
    "    DISTANCE_TO_GROW = 10\n",
    "    CELL_RADIUS_PLUS = 1"
   ]
  },
  {
   "cell_type": "code",
   "execution_count": 189,
   "metadata": {},
   "outputs": [
    {
     "name": "stdout",
     "output_type": "stream",
     "text": [
      "ADD_DOT_PROB 0.6321205588285577\n",
      "REMOVE_DOT_PROB 0.13064176460119403\n",
      "CREATE_BRANCH_PROB 0.019213031018206927\n"
     ]
    }
   ],
   "source": [
    "print(\"ADD_DOT_PROB\" , CONSTS.ADD_DOT_PROB)\n",
    "print(\"REMOVE_DOT_PROB\" , CONSTS.REMOVE_DOT_PROB)\n",
    "print(\"CREATE_BRANCH_PROB\" , CONSTS.CREATE_BRANCH_PROB)"
   ]
  },
  {
   "cell_type": "code",
   "execution_count": 191,
   "metadata": {
    "scrolled": true
   },
   "outputs": [
    {
     "name": "stderr",
     "output_type": "stream",
     "text": [
      "100%|██████████████████████████████████████████████████████████████████████████████| 1500/1500 [00:39<00:00, 37.94it/s]\n"
     ]
    }
   ],
   "source": [
    "myTree = Tree(Branch(0,0,Direction(0),None))\n",
    "myCell = Cell([0,0], 10)\n",
    "myRandomizer = Randomizer(myTree, myCell)\n",
    "#myPlot = Plot([0, 200], [-200, 200])\n",
    "iter_count = 1500\n",
    "for i in tqdm(range(iter_count)):\n",
    "    myRandomizer.oneTick()\n",
    "    index += 1\n",
    "    #plot.drawPlot(tree, cell, index)\n",
    "myPlot = Plot([0, myCell.radius + 20], [-(myCell.radius + 20), myCell.radius + 20])\n",
    "myPlot.drawPlot(myTree, myCell, name = strftime(\"%d-%m-%Y_%H_%M\", localtime()), iter_count = iter_count)"
   ]
  },
  {
   "cell_type": "code",
   "execution_count": 184,
   "metadata": {},
   "outputs": [
    {
     "name": "stdout",
     "output_type": "stream",
     "text": [
      "172\n"
     ]
    }
   ],
   "source": [
    "print(myCell.radius)"
   ]
  },
  {
   "cell_type": "code",
   "execution_count": 186,
   "metadata": {},
   "outputs": [],
   "source": [
    "myRandomizer.cellGrow()"
   ]
  },
  {
   "cell_type": "code",
   "execution_count": 187,
   "metadata": {},
   "outputs": [
    {
     "name": "stdout",
     "output_type": "stream",
     "text": [
      "79\n",
      "79\n",
      "61\n"
     ]
    }
   ],
   "source": [
    "print(len(myRandomizer.checker.allBranchesInsideGrowArea()))\n",
    "print(len([x for x in myTree.getAllBranches() if myRandomizer.checker.checkBranchOutsideGrowArea(x) == False]))\n",
    "print(len(myRandomizer.checker.allBranchesThatCanGrow()))"
   ]
  },
  {
   "cell_type": "code",
   "execution_count": 170,
   "metadata": {},
   "outputs": [
    {
     "name": "stdout",
     "output_type": "stream",
     "text": [
      "False\n",
      "True\n",
      "False\n"
     ]
    }
   ],
   "source": [
    "a = myRandomizer.checker.allBranchesInsideGrowArea()\n",
    "b = [x for x in myTree.getAllBranches() if myRandomizer.checker.checkBranchOutsideGrowArea(x) == False]\n",
    "for x in a:\n",
    "    if x not in b:\n",
    "        print(1,x)\n",
    "        c = x\n",
    "\n",
    "for x in b:\n",
    "    if x not in a:\n",
    "        print(2,x)\n",
    "print(c.outsideGrowArea)\n",
    "print(myRandomizer.checker.checkBranchOutsideGrowArea(c))\n",
    "print(myRandomizer.checker.checkDotOutsideCell(c.dots[-1]))"
   ]
  },
  {
   "cell_type": "code",
   "execution_count": 171,
   "metadata": {},
   "outputs": [
    {
     "ename": "IndexError",
     "evalue": "list index out of range",
     "output_type": "error",
     "traceback": [
      "\u001b[1;31m---------------------------------------------------------------------------\u001b[0m",
      "\u001b[1;31mIndexError\u001b[0m                                Traceback (most recent call last)",
      "\u001b[1;32m<ipython-input-171-002b4c3c111a>\u001b[0m in \u001b[0;36m<module>\u001b[1;34m\u001b[0m\n\u001b[1;32m----> 1\u001b[1;33m \u001b[0mprint\u001b[0m\u001b[1;33m(\u001b[0m\u001b[0mmyCell\u001b[0m\u001b[1;33m.\u001b[0m\u001b[0mleanedBranches\u001b[0m\u001b[1;33m[\u001b[0m\u001b[1;36m0\u001b[0m\u001b[1;33m]\u001b[0m \u001b[1;33m==\u001b[0m \u001b[0mc\u001b[0m\u001b[1;33m)\u001b[0m\u001b[1;33m\u001b[0m\u001b[1;33m\u001b[0m\u001b[0m\n\u001b[0m",
      "\u001b[1;31mIndexError\u001b[0m: list index out of range"
     ]
    }
   ],
   "source": [
    "print(myCell.leanedBranches[0] == c)"
   ]
  },
  {
   "cell_type": "code",
   "execution_count": 137,
   "metadata": {},
   "outputs": [
    {
     "name": "stdout",
     "output_type": "stream",
     "text": [
      "False\n",
      "False\n"
     ]
    }
   ],
   "source": [
    "print(MathDot.length(myCell.centre, c.dots[-1]) > myCell.radius)\n",
    "print(MathDot.length(myCell.centre, c.dots[-1]) < myCell.radius - CONSTS.DISTANCE_TO_GROW)"
   ]
  },
  {
   "cell_type": "code",
   "execution_count": 178,
   "metadata": {},
   "outputs": [
    {
     "name": "stdout",
     "output_type": "stream",
     "text": [
      "7182\n",
      "7182\n",
      "74\n"
     ]
    }
   ],
   "source": [
    "print(len(myTree.getAllBranches()))\n",
    "res = []\n",
    "myTree._recGetAllBranches(myTree.root, res)\n",
    "print(len(res))\n",
    "print(len([x for x in res if x.canGrow]))"
   ]
  },
  {
   "cell_type": "code",
   "execution_count": 212,
   "metadata": {},
   "outputs": [
    {
     "name": "stdout",
     "output_type": "stream",
     "text": [
      "6\n"
     ]
    }
   ],
   "source": [
    "print(len([x for x in tree.getAllBranches() if x.canGrow]))"
   ]
  },
  {
   "cell_type": "code",
   "execution_count": 152,
   "metadata": {},
   "outputs": [
    {
     "ename": "NameError",
     "evalue": "name 'cell' is not defined",
     "output_type": "error",
     "traceback": [
      "\u001b[1;31m---------------------------------------------------------------------------\u001b[0m",
      "\u001b[1;31mNameError\u001b[0m                                 Traceback (most recent call last)",
      "\u001b[1;32m<ipython-input-152-2d01b04d204f>\u001b[0m in \u001b[0;36m<module>\u001b[1;34m\u001b[0m\n\u001b[1;32m----> 1\u001b[1;33m \u001b[1;33m(\u001b[0m\u001b[0mcell\u001b[0m\u001b[1;33m.\u001b[0m\u001b[0mradius\u001b[0m \u001b[1;33m-\u001b[0m \u001b[0mcell\u001b[0m\u001b[1;33m.\u001b[0m\u001b[0mstartRadius\u001b[0m\u001b[1;33m)\u001b[0m \u001b[1;33m*\u001b[0m \u001b[1;36m5.5e-9\u001b[0m \u001b[1;33m/\u001b[0m \u001b[1;36m40\u001b[0m\u001b[1;33m\u001b[0m\u001b[1;33m\u001b[0m\u001b[0m\n\u001b[0m",
      "\u001b[1;31mNameError\u001b[0m: name 'cell' is not defined"
     ]
    }
   ],
   "source": [
    "(cell.radius - cell.startRadius) * 5.5e-9 / 40"
   ]
  },
  {
   "cell_type": "code",
   "execution_count": 13,
   "metadata": {},
   "outputs": [
    {
     "ename": "ValueError",
     "evalue": "list.remove(x): x not in list",
     "output_type": "error",
     "traceback": [
      "\u001b[1;31m---------------------------------------------------------------------------\u001b[0m",
      "\u001b[1;31mValueError\u001b[0m                                Traceback (most recent call last)",
      "\u001b[1;32m<ipython-input-13-8e96669d2d5d>\u001b[0m in \u001b[0;36m<module>\u001b[1;34m\u001b[0m\n\u001b[0;32m      1\u001b[0m \u001b[0ma\u001b[0m \u001b[1;33m=\u001b[0m \u001b[1;33m[\u001b[0m\u001b[1;36m1\u001b[0m\u001b[1;33m,\u001b[0m\u001b[1;36m2\u001b[0m\u001b[1;33m,\u001b[0m\u001b[1;36m3\u001b[0m\u001b[1;33m]\u001b[0m\u001b[1;33m\u001b[0m\u001b[1;33m\u001b[0m\u001b[0m\n\u001b[1;32m----> 2\u001b[1;33m \u001b[0ma\u001b[0m\u001b[1;33m.\u001b[0m\u001b[0mremove\u001b[0m\u001b[1;33m(\u001b[0m\u001b[1;36m5\u001b[0m\u001b[1;33m)\u001b[0m\u001b[1;33m\u001b[0m\u001b[1;33m\u001b[0m\u001b[0m\n\u001b[0m",
      "\u001b[1;31mValueError\u001b[0m: list.remove(x): x not in list"
     ]
    }
   ],
   "source": [
    "a = [1,2,3]\n",
    "a.remove(5)"
   ]
  },
  {
   "cell_type": "code",
   "execution_count": 108,
   "metadata": {},
   "outputs": [
    {
     "name": "stdout",
     "output_type": "stream",
     "text": [
      "4.46e-07\n"
     ]
    }
   ],
   "source": [
    "print(format(44.553423e-8, '.3g'))"
   ]
  },
  {
   "cell_type": "code",
   "execution_count": 164,
   "metadata": {},
   "outputs": [
    {
     "name": "stdout",
     "output_type": "stream",
     "text": [
      "False\n"
     ]
    }
   ],
   "source": [
    "a = True\n",
    "b = a == False\n",
    "print(b)"
   ]
  },
  {
   "cell_type": "code",
   "execution_count": null,
   "metadata": {},
   "outputs": [],
   "source": []
  }
 ],
 "metadata": {
  "kernelspec": {
   "display_name": "Python 3",
   "language": "python",
   "name": "python3"
  },
  "language_info": {
   "codemirror_mode": {
    "name": "ipython",
    "version": 3
   },
   "file_extension": ".py",
   "mimetype": "text/x-python",
   "name": "python",
   "nbconvert_exporter": "python",
   "pygments_lexer": "ipython3",
   "version": "3.8.5"
  }
 },
 "nbformat": 4,
 "nbformat_minor": 4
}
