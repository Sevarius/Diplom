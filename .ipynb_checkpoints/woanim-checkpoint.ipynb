{
 "cells": [
  {
   "cell_type": "code",
   "execution_count": 1,
   "metadata": {},
   "outputs": [
    {
     "name": "stdout",
     "output_type": "stream",
     "text": [
      "0.0009995001666250891\n",
      "0.00013999020045729615\n",
      "5.55\n"
     ]
    }
   ],
   "source": [
    "import numpy as np\n",
    "from matplotlib import pyplot as plt\n",
    "from matplotlib.animation import FuncAnimation\n",
    "import random\n",
    "import pylab\n",
    "import matplotlib.patches\n",
    "import matplotlib.lines\n",
    "import matplotlib.path\n",
    "import math\n",
    "\n",
    "xn = 1\n",
    "dt1 = 0.0001\n",
    "dt2 = 0.0001\n",
    "add = 1-1/(math.exp(dt1*10))\n",
    "sub = 1-1/(math.exp(dt2*1.4))\n",
    "print(add)\n",
    "print(sub)\n",
    "\n",
    "length=0\n",
    "for ii in range(200):\n",
    "    for i in range(5000):\n",
    "        randadd = random.random()\n",
    "        if randadd < add:\n",
    "            xn = xn+1\n",
    "            \n",
    "        randsub = random.random()\n",
    "        if randsub < sub:\n",
    "            xn = xn-1\n",
    "            \n",
    "    length = length+xn\n",
    "    xn = 1\n",
    "\n",
    "f.close()\n",
    "\n",
    "average = length/200\n",
    "print (average)\n"
   ]
  },
  {
   "cell_type": "code",
   "execution_count": null,
   "metadata": {},
   "outputs": [],
   "source": []
  }
 ],
 "metadata": {
  "kernelspec": {
   "display_name": "Python 3",
   "language": "python",
   "name": "python3"
  },
  "language_info": {
   "codemirror_mode": {
    "name": "ipython",
    "version": 3
   },
   "file_extension": ".py",
   "mimetype": "text/x-python",
   "name": "python",
   "nbconvert_exporter": "python",
   "pygments_lexer": "ipython3",
   "version": "3.8.5"
  }
 },
 "nbformat": 4,
 "nbformat_minor": 4
}
